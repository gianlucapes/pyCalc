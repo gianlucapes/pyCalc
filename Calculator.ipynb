{
 "cells": [
  {
   "cell_type": "code",
   "execution_count": 35,
   "id": "22f7169d",
   "metadata": {},
   "outputs": [],
   "source": [
    "def addition (number) :\n",
    "    answer=number\n",
    "    while number != 0:\n",
    "        number=float(input(\"Enter another number (0 for calculate the sum)...\"))\n",
    "        answer+=number\n",
    "        if number!=0 :\n",
    "            print(\"Current Sum = \"+str(answer))\n",
    "    print(\"Final Sum = \"+str(answer))"
   ]
  },
  {
   "cell_type": "code",
   "execution_count": 36,
   "id": "c2599276",
   "metadata": {},
   "outputs": [],
   "source": [
    "def substraction (number) :\n",
    "    answer=number\n",
    "    while number != 0:\n",
    "        number=float(input(\"Enter another number (0 for calculate the difference)...\"))\n",
    "        answer-=number\n",
    "        if number!=0 :\n",
    "            print(\"Current Difference = \"+str(answer))\n",
    "    print(\"Final Difference = \"+str(answer))"
   ]
  },
  {
   "cell_type": "code",
   "execution_count": 37,
   "id": "869a6838",
   "metadata": {},
   "outputs": [],
   "source": [
    "def moltiplication (number) :\n",
    "    answer=number\n",
    "    while number != 0 and number != 1:\n",
    "        number=float(input(\"Enter another number (1 for calculate the product)...\"))\n",
    "        answer*=number\n",
    "        if number!=1 :\n",
    "            print(\"Current Product = \"+str(answer))\n",
    "    print(\"Final Product = \"+str(answer))"
   ]
  },
  {
   "cell_type": "code",
   "execution_count": 38,
   "id": "b07de36d",
   "metadata": {},
   "outputs": [],
   "source": [
    "def division (number) :\n",
    "    answer=number\n",
    "    while number != 0 and number != 1:\n",
    "        number=float(input(\"Enter another number (1 for calculate the quotient)...\"))\n",
    "        if number==0:\n",
    "            answer=\"infinite\"\n",
    "        else:\n",
    "            answer/=number\n",
    "            if number!=1 :\n",
    "                print(\"Current Raport = \"+str(answer))\n",
    "    print(\"Final Raport = \"+str(answer))"
   ]
  },
  {
   "cell_type": "code",
   "execution_count": 47,
   "id": "34243867",
   "metadata": {},
   "outputs": [],
   "source": [
    "def executeOperation(number):\n",
    "    op=\"\"\n",
    "    while op!=\"+\" and op!=\"-\" and op!=\"*\" and op!=\"/\":\n",
    "        op=str(input(\"Choose operator (+-*/)\"))\n",
    "        if op==\"+\":\n",
    "            addition(number)\n",
    "        elif op==\"-\":\n",
    "            substraction (number)\n",
    "        elif op==\"*\":\n",
    "            moltiplication (number)\n",
    "        elif op==\"/\":\n",
    "            division (number)\n",
    "        else:\n",
    "            print(\"Invalid operator\")"
   ]
  },
  {
   "cell_type": "code",
   "execution_count": 51,
   "id": "4b180704",
   "metadata": {},
   "outputs": [],
   "source": [
    "def calculate():\n",
    "    calc=\"y\"\n",
    "    answer=0\n",
    "    while calc !=\"n\" and calc !=\"N\":\n",
    "        number=answer\n",
    "        number=float(input(\"Enter a number \"))\n",
    "        executeOperation(number)\n",
    "        calc=str(input(\"Continue calcs?(Y or N)\"))\n",
    "    print(\"Goodby!\")"
   ]
  },
  {
   "cell_type": "code",
   "execution_count": null,
   "id": "e61bda55",
   "metadata": {},
   "outputs": [],
   "source": [
    "calculate()"
   ]
  },
  {
   "cell_type": "code",
   "execution_count": null,
   "id": "84b83ec2",
   "metadata": {},
   "outputs": [],
   "source": []
  }
 ],
 "metadata": {
  "kernelspec": {
   "display_name": "Python 3 (ipykernel)",
   "language": "python",
   "name": "python3"
  },
  "language_info": {
   "codemirror_mode": {
    "name": "ipython",
    "version": 3
   },
   "file_extension": ".py",
   "mimetype": "text/x-python",
   "name": "python",
   "nbconvert_exporter": "python",
   "pygments_lexer": "ipython3",
   "version": "3.9.13"
  }
 },
 "nbformat": 4,
 "nbformat_minor": 5
}
